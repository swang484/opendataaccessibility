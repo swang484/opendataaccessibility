{
 "cells": [
  {
   "cell_type": "code",
   "execution_count": 145,
   "metadata": {},
   "outputs": [
    {
     "name": "stdout",
     "output_type": "stream",
     "text": [
      "Requirement already satisfied: ollama in ./venv/lib/python3.9/site-packages (0.5.1)\n",
      "Requirement already satisfied: httpx>=0.27 in ./venv/lib/python3.9/site-packages (from ollama) (0.28.1)\n",
      "Requirement already satisfied: pydantic>=2.9 in ./venv/lib/python3.9/site-packages (from ollama) (2.11.7)\n",
      "Requirement already satisfied: anyio in ./venv/lib/python3.9/site-packages (from httpx>=0.27->ollama) (4.9.0)\n",
      "Requirement already satisfied: certifi in ./venv/lib/python3.9/site-packages (from httpx>=0.27->ollama) (2025.6.15)\n",
      "Requirement already satisfied: httpcore==1.* in ./venv/lib/python3.9/site-packages (from httpx>=0.27->ollama) (1.0.9)\n",
      "Requirement already satisfied: idna in ./venv/lib/python3.9/site-packages (from httpx>=0.27->ollama) (3.10)\n",
      "Requirement already satisfied: h11>=0.16 in ./venv/lib/python3.9/site-packages (from httpcore==1.*->httpx>=0.27->ollama) (0.16.0)\n",
      "Requirement already satisfied: annotated-types>=0.6.0 in ./venv/lib/python3.9/site-packages (from pydantic>=2.9->ollama) (0.7.0)\n",
      "Requirement already satisfied: pydantic-core==2.33.2 in ./venv/lib/python3.9/site-packages (from pydantic>=2.9->ollama) (2.33.2)\n",
      "Requirement already satisfied: typing-extensions>=4.12.2 in ./venv/lib/python3.9/site-packages (from pydantic>=2.9->ollama) (4.14.0)\n",
      "Requirement already satisfied: typing-inspection>=0.4.0 in ./venv/lib/python3.9/site-packages (from pydantic>=2.9->ollama) (0.4.1)\n",
      "Requirement already satisfied: exceptiongroup>=1.0.2 in ./venv/lib/python3.9/site-packages (from anyio->httpx>=0.27->ollama) (1.3.0)\n",
      "Requirement already satisfied: sniffio>=1.1 in ./venv/lib/python3.9/site-packages (from anyio->httpx>=0.27->ollama) (1.3.1)\n",
      "Requirement already satisfied: fsspec in ./venv/lib/python3.9/site-packages (2025.5.1)\n"
     ]
    }
   ],
   "source": [
    "# ollama list\n",
    "# ollama pull [model name]\n",
    "# ollama run [model name]\n",
    "\n",
    "# npm run \n",
    "\n",
    "!pip install ollama\n",
    "!pip install fsspec"
   ]
  },
  {
   "cell_type": "code",
   "execution_count": 1,
   "metadata": {},
   "outputs": [],
   "source": [
    "import pandas\n",
    "import requests\n",
    "import json\n",
    "import duckdb\n",
    "\n",
    "from ollama import chat\n",
    "from ollama import ChatResponse\n",
    "\n",
    "import importlib\n",
    "import columns_to_schema"
   ]
  },
  {
   "cell_type": "code",
   "execution_count": 2,
   "metadata": {},
   "outputs": [
    {
     "data": {
      "text/plain": [
       "<module 'columns_to_schema' from '/Users/sophiawang/Desktop/CS/opendataaccessibility/backend/columns_to_schema.py'>"
      ]
     },
     "execution_count": 2,
     "metadata": {},
     "output_type": "execute_result"
    }
   ],
   "source": [
    "importlib.reload(columns_to_schema)"
   ]
  },
  {
   "cell_type": "code",
   "execution_count": 3,
   "metadata": {},
   "outputs": [
    {
     "name": "stdout",
     "output_type": "stream",
     "text": [
      "CREATE TABLE db (\n",
      "\texam_no VARCHAR, --A four (4) digit number that identifies a civil service examination. \n",
      "\tlist_no FLOAT, --An eligible candidate’s placement on a given list as of the business day that the data set is populated. \n",
      "\tfirst_name VARCHAR, --A candidate’s first name as it appears on their application.\n",
      "\tmi VARCHAR, --A candidate’s middle initial (MI) as it appears on their application.\n",
      "\tlast_name VARCHAR, --A candidate’s last name as it appears on their application.\n",
      "\tadj_fa FLOAT, --The Adjusted Final Average (“Adj. FA” or “AFA”) is an eligible candidate’s test score in addition to any additional credits granted.\n",
      "\tlist_title_code VARCHAR, --A five (5) digit number that corresponds to and represents a civil service title.\n",
      "\tlist_title_desc VARCHAR, --A descriptive name that identifies a civil service title. \n",
      "\tgroup_no VARCHAR, --Represents the certification order for a list. (e.g. – eligible candidates on a list with a 01 group number may be considered for appointment before an eligible candidate on primary list with a 00 group number).\n",
      "\tlist_agency_code VARCHAR, --A three (3) digit number used to identify an agency (For Promotion List Only).\n",
      "\tlist_agency_desc VARCHAR, --The name of an appointing Agency.\n",
      "\tlist_div_code VARCHAR, --The promotional division codes/descriptions within the New York City Transit Authority only.\n",
      "\tpublished_date DATE, --The date on which an eligible list is made available for review by the general public and appointing agencies.  \n",
      "\testablished_date DATE, --The date on which an eligible list is made available for certification to agencies to consider an eligible candidate for appointment.\n",
      "\tanniversary_date DATE, --The date on which an eligible list is scheduled to expire.      \n",
      "\textension_date DATE, --The date on which a list will be extended beyond its original expiration date.  \n",
      "\tveteran_credit VARCHAR, --An additional credit given to a Veteran (5 points) or disabled veteran (10 points) when s/he accepts a permanent position from an eligible list. \n",
      "\tparent_lgy_credit VARCHAR, --A “Parent Legacy credit” is an additional credit given on an exam (10 points) to a candidate who lost a parent (FDNY, NYPD, or a First Responder, during or as a result of 911).\n",
      "\tsibling_lgy_credit VARCHAR, --A “Sibling Legacy Credit” is additional credit given on an exam (10 points) to a candidate who lost a sibling (FDNY, NYPD, or a First Responder, during or as a result of 911).\n",
      "\tresidency_credit VARCHAR --An additional credit given on an exam to a candidate who maintains a continuous period of residency in New York City as described in the Notice of Examination for a specific title.     \n",
      ");\n"
     ]
    }
   ],
   "source": [
    "r = requests.get('https://data.cityofnewyork.us/resource/vx8i-nprf.json')\n",
    "with open('database.json', 'w') as f:\n",
    "    json.dump(r.json(), f)\n",
    "\n",
    "schema = columns_to_schema.form_schema(\"data.cityofnewyork.us\", \"vx8i-nprf\", \"db\")\n",
    "print(schema)"
   ]
  },
  {
   "cell_type": "code",
   "execution_count": 157,
   "metadata": {},
   "outputs": [
    {
     "name": "stdout",
     "output_type": "stream",
     "text": [
      " SELECT first_name FROM db WHERE mi = 'A';\n"
     ]
    }
   ],
   "source": [
    "question = 'give me the first names of all candidates with the middle initial A'\n",
    "\n",
    "prompt = f\"\"\"\n",
    "Generate a SQL query to answer this question: [QUESTION]{question}[/QUESTION]. Do not change the prompt. DO NOT ADD\n",
    "\n",
    "Write in plain text without any formatting.\n",
    "\n",
    "The query will run on a database with the following schema:\n",
    "{schema}\n",
    "\n",
    "Answer: Given the database schema, here is the SQL query that answers [QUESTION]{question}[/QUESTION]. [SQL] <s>\n",
    "\"\"\"\n",
    "\n",
    "response: ChatResponse = chat(model='sqlcoder:latest', messages=[\n",
    "  {\n",
    "    'role': 'user',\n",
    "    'content': prompt,\n",
    "  },\n",
    "])\n",
    "\n",
    "output = response['message']['content']\n",
    "print(output)"
   ]
  },
  {
   "cell_type": "code",
   "execution_count": 158,
   "metadata": {},
   "outputs": [
    {
     "data": {
      "text/plain": [
       "┌────────────┐\n",
       "│ first_name │\n",
       "│  varchar   │\n",
       "├────────────┤\n",
       "│ JOSEPH     │\n",
       "│ TESHAWNA   │\n",
       "│ TYRESE     │\n",
       "│ ALIYAH     │\n",
       "│ DEVENN     │\n",
       "│ SERGIO     │\n",
       "│ JASON      │\n",
       "│ MD         │\n",
       "│ TASHEEMA   │\n",
       "│ CARLOS     │\n",
       "│ ·          │\n",
       "│ ·          │\n",
       "│ ·          │\n",
       "│ MD         │\n",
       "│ JASMINE    │\n",
       "│ ANDREW     │\n",
       "│ JOSHUA     │\n",
       "│ JAMES      │\n",
       "│ SHANYIA    │\n",
       "│ KRISTOPHER │\n",
       "│ KENEIL     │\n",
       "│ DANIELLA   │\n",
       "│ FRANCO     │\n",
       "├────────────┤\n",
       "│  87 rows   │\n",
       "│ (20 shown) │\n",
       "└────────────┘"
      ]
     },
     "execution_count": 158,
     "metadata": {},
     "output_type": "execute_result"
    }
   ],
   "source": [
    "db = duckdb.read_json('database.json')\n",
    "duckdb.sql(output)\n",
    "\n",
    "# https://duckdb.org/docs/stable/clients/python/overview.html "
   ]
  }
 ],
 "metadata": {
  "kernelspec": {
   "display_name": "venv",
   "language": "python",
   "name": "python3"
  },
  "language_info": {
   "codemirror_mode": {
    "name": "ipython",
    "version": 3
   },
   "file_extension": ".py",
   "mimetype": "text/x-python",
   "name": "python",
   "nbconvert_exporter": "python",
   "pygments_lexer": "ipython3",
   "version": "3.9.12"
  }
 },
 "nbformat": 4,
 "nbformat_minor": 2
}
